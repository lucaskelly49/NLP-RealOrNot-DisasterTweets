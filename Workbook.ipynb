{
 "cells": [
  {
   "cell_type": "code",
   "execution_count": 26,
   "metadata": {},
   "outputs": [],
   "source": [
    "# https://www.kaggle.com/c/nlp-getting-started/data"
   ]
  },
  {
   "cell_type": "markdown",
   "metadata": {},
   "source": [
    "# Things to do with NLTK:\n",
    "\n",
    "* Stop word removal\n",
    "* Filtering and cleaning\n",
    "* Feature selection and engineering"
   ]
  },
  {
   "cell_type": "code",
   "execution_count": 89,
   "metadata": {},
   "outputs": [],
   "source": [
    "import pandas as pd\n",
    "import matplotlib.pyplot as plt\n",
    "from nltk.corpus import stopwords\n",
    "from nltk import word_tokenize\n",
    "import nltk\n",
    "import string\n",
    "from  nltk import FreqDist"
   ]
  },
  {
   "cell_type": "code",
   "execution_count": 3,
   "metadata": {},
   "outputs": [],
   "source": [
    "df_train = pd.read_csv('train.csv')\n",
    "df_test = pd.read_csv('test.csv')"
   ]
  },
  {
   "cell_type": "code",
   "execution_count": 4,
   "metadata": {},
   "outputs": [
    {
     "data": {
      "text/plain": [
       "id             0\n",
       "keyword       61\n",
       "location    2533\n",
       "text           0\n",
       "target         0\n",
       "dtype: int64"
      ]
     },
     "execution_count": 4,
     "metadata": {},
     "output_type": "execute_result"
    }
   ],
   "source": [
    "df_train.isnull().sum()"
   ]
  },
  {
   "cell_type": "code",
   "execution_count": 5,
   "metadata": {},
   "outputs": [],
   "source": [
    "true=df_train[df_train['target']==1]\n",
    "false=df_train[df_train['target']==0]"
   ]
  },
  {
   "cell_type": "markdown",
   "metadata": {},
   "source": [
    "### creating stopwords list"
   ]
  },
  {
   "cell_type": "code",
   "execution_count": 76,
   "metadata": {},
   "outputs": [],
   "source": [
    "# remove stop words and punctuation from this one tweet\n",
    "stopwords_list = stopwords.words('english')\n",
    "stopwords_list += list(string.punctuation)\n",
    "stopwords_list += ['the', 'I', 'i', 'A', 'http', 'https', '0', '1', '2', '3', '4', \n",
    "                   '5', '6', '7', '8', '9','@', '‘','said','says', \"'s\",'”',\n",
    "                   '“', ':', '#', 'a', '...', \"'nt\", \"n't\", 'like', 'amp', 'via'] #Miscelleneous and numerical characters"
   ]
  },
  {
   "cell_type": "code",
   "execution_count": 77,
   "metadata": {},
   "outputs": [],
   "source": [
    "# Capitalizing words\n",
    "count = 0\n",
    "for i in stopwords_list: \n",
    "    cap = i.capitalize()\n",
    "    upper = i.upper()\n",
    "    stopwords_list.append(cap)\n",
    "    stopwords_list.append(upper)\n",
    "    count += 1\n",
    "    if count > 488:\n",
    "        break"
   ]
  },
  {
   "cell_type": "markdown",
   "metadata": {},
   "source": [
    "### tokenizing"
   ]
  },
  {
   "cell_type": "code",
   "execution_count": 13,
   "metadata": {},
   "outputs": [],
   "source": [
    "tokenized_true = true['text'].apply(nltk.word_tokenize) #Tokenizing \n",
    "tokenized_false = false['text'].apply(nltk.word_tokenize)"
   ]
  },
  {
   "cell_type": "code",
   "execution_count": 14,
   "metadata": {},
   "outputs": [
    {
     "data": {
      "text/plain": [
       "0       [Our, Deeds, are, the, Reason, of, this, #, ea...\n",
       "1        [Forest, fire, near, La, Ronge, Sask, ., Canada]\n",
       "2       [All, residents, asked, to, 'shelter, in, plac...\n",
       "3       [13,000, people, receive, #, wildfires, evacua...\n",
       "4       [Just, got, sent, this, photo, from, Ruby, #, ...\n",
       "                              ...                        \n",
       "7608    [Two, giant, cranes, holding, a, bridge, colla...\n",
       "7609    [@, aria_ahrary, @, TheTawniest, The, out, of,...\n",
       "7610    [M1.94, [, 01:04, UTC, ], ?, 5km, S, of, Volca...\n",
       "7611    [Police, investigating, after, an, e-bike, col...\n",
       "7612    [The, Latest, :, More, Homes, Razed, by, North...\n",
       "Name: text, Length: 3271, dtype: object"
      ]
     },
     "execution_count": 14,
     "metadata": {},
     "output_type": "execute_result"
    }
   ],
   "source": [
    "tokenized_true"
   ]
  },
  {
   "cell_type": "markdown",
   "metadata": {},
   "source": [
    "### Removing stop words"
   ]
  },
  {
   "cell_type": "code",
   "execution_count": 78,
   "metadata": {},
   "outputs": [],
   "source": [
    "true_tokens=[] #Use this to take out all of the stop words \n",
    "for x in tokenized_true:\n",
    "    for y in x:\n",
    "        if y not in stopwords_list:\n",
    "            true_tokens.append(y.lower())"
   ]
  },
  {
   "cell_type": "code",
   "execution_count": 79,
   "metadata": {},
   "outputs": [],
   "source": [
    "false_tokens=[] #Use this to take out all of the stop words \n",
    "for x in tokenized_false:\n",
    "    for y in x:\n",
    "        if y not in stopwords_list:\n",
    "            false_tokens.append(y.lower())"
   ]
  },
  {
   "cell_type": "markdown",
   "metadata": {},
   "source": [
    "### frequency distribution"
   ]
  },
  {
   "cell_type": "code",
   "execution_count": 86,
   "metadata": {},
   "outputs": [
    {
     "data": {
      "text/plain": [
       "{'fire': 177,\n",
       " 'news': 140,\n",
       " 'disaster': 118,\n",
       " 'california': 111,\n",
       " 'police': 106,\n",
       " 'people': 104,\n",
       " 'suicide': 104,\n",
       " 'killed': 93,\n",
       " 'hiroshima': 87,\n",
       " 'storm': 86}"
      ]
     },
     "execution_count": 86,
     "metadata": {},
     "output_type": "execute_result"
    }
   ],
   "source": [
    "FreqDist_true = dict(FreqDist(true_tokens).most_common(10)) #Freq Dist of the token values for positive values\n",
    "FreqDist_true"
   ]
  },
  {
   "cell_type": "code",
   "execution_count": 91,
   "metadata": {},
   "outputs": [
    {
     "data": {
      "text/plain": [
       "dict_keys(['fire', 'news', 'disaster', 'california', 'police', 'people', 'suicide', 'killed', 'hiroshima', 'storm'])"
      ]
     },
     "execution_count": 91,
     "metadata": {},
     "output_type": "execute_result"
    }
   ],
   "source": [
    "FreqDist_true.keys()"
   ]
  },
  {
   "cell_type": "code",
   "execution_count": 105,
   "metadata": {},
   "outputs": [
    {
     "data": {
      "text/plain": [
       "Text(0.5,1,'Top 10 Disaster Words')"
      ]
     },
     "execution_count": 105,
     "metadata": {},
     "output_type": "execute_result"
    },
    {
     "data": {
      "image/png": "[encoded data removed]",
      "text/plain": [
       "<Figure size 864x576 with 1 Axes>"
      ]
     },
     "metadata": {
      "needs_background": "light"
     },
     "output_type": "display_data"
    }
   ],
   "source": [
    "# Plot top 10 disaster words\n",
    "plt.figure(figsize=(12,8)) #Figsize\n",
    "plt.bar(FreqDist_true.keys(),\n",
    "        FreqDist_true.values(),\n",
    "        color='darkred') #Bar graph\n",
    "plt.tick_params(labelsize=10)\n",
    "plt.xlabel('Word Vector',size=15) #X label\n",
    "plt.ylabel('Word Count',size=15) #Y label\n",
    "plt.title('Top 10 Disaster Words', size=20) #Title"
   ]
  },
  {
   "cell_type": "code",
   "execution_count": 84,
   "metadata": {},
   "outputs": [
    {
     "data": {
      "text/plain": [
       "{\"'m\": 203,\n",
       " 'new': 164,\n",
       " 'get': 162,\n",
       " 'one': 129,\n",
       " 'body': 111,\n",
       " 'would': 104,\n",
       " 'video': 96,\n",
       " 'people': 93,\n",
       " 'got': 92,\n",
       " 'love': 89}"
      ]
     },
     "execution_count": 84,
     "metadata": {},
     "output_type": "execute_result"
    }
   ],
   "source": [
    "#Freq Dist of the token values for positive values\n",
    "\n",
    "FreqDist_false = dict(FreqDist(false_tokens).most_common(10)) \n",
    "FreqDist_false"
   ]
  },
  {
   "cell_type": "code",
   "execution_count": null,
   "metadata": {},
   "outputs": [],
   "source": []
  }
 ],
 "metadata": {
  "kernelspec": {
   "display_name": "Python 3",
   "language": "python",
   "name": "python3"
  },
  "language_info": {
   "codemirror_mode": {
    "name": "ipython",
    "version": 3
   },
   "file_extension": ".py",
   "mimetype": "text/x-python",
   "name": "python",
   "nbconvert_exporter": "python",
   "pygments_lexer": "ipython3",
   "version": "3.7.4"
  }
 },
 "nbformat": 4,
 "nbformat_minor": 2
}
